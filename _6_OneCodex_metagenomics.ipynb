{
 "cells": [
  {
   "cell_type": "markdown",
   "metadata": {},
   "source": [
    "### OneCodex Tutorial\n",
    "To complete this tutorial, you will need to create an account on OneCodex.com\n",
    "OneCodex is a cloud based metagenomic classifier.\n",
    "\n",
    "We will compare the output of the OneCodex classifier to that of our WIMP output."
   ]
  },
  {
   "cell_type": "code",
   "execution_count": null,
   "metadata": {
    "collapsed": true
   },
   "outputs": [],
   "source": [
    "# Load the required modules\n",
    "import os, subprocess"
   ]
  },
  {
   "cell_type": "code",
   "execution_count": null,
   "metadata": {
    "collapsed": false
   },
   "outputs": [],
   "source": [
    "# Now we need to set our directories:\n",
    "HOME_DIR = os.environ.get('PORECAMPAU_ANALYSIS_PATH') + \"/\"\n",
    "PORECAMPAU_DATA_DIR = os.environ.get('PORECAMPAU_DATA_PATH') + \"/\"\n",
    "\n",
    "FASTQ_DIR = \"/mnt/shared/PoreCampAU/data/fastq/Lake_Hillier/2D/\"\n",
    "fastq_file = FASTQ_DIR + \"Lake_Hillier_WIMP_pass_R7p3_2D.fastq\"\n",
    "api_key = \"\"  # You can find your api key on your profile. Paste this in here.\n",
    "\n",
    "upload_command = \"onecodex upload --api-key=%s %s\" % (api_key, fastq_file)\n",
    "stderr = subprocess.check_call(upload_command, shell=True, stderr=subprocess.STDOUT)\n",
    "\n",
    "if not stderr == \"\":\n",
    "    print \"Printing stderr of onecodex upload command: %s\" % stderr"
   ]
  },
  {
   "cell_type": "markdown",
   "metadata": {},
   "source": [
    "Now we've uploaded the fastq file we need to go to the website, and we should see the output."
   ]
  }
 ],
 "metadata": {
  "anaconda-cloud": {},
  "kernelspec": {
   "display_name": "Python 2",
   "language": "python",
   "name": "python2"
  },
  "language_info": {
   "codemirror_mode": {
    "name": "ipython",
    "version": 2.0
   },
   "file_extension": ".py",
   "mimetype": "text/x-python",
   "name": "python",
   "nbconvert_exporter": "python",
   "pygments_lexer": "ipython2",
   "version": "2.7.13"
  }
 },
 "nbformat": 4,
 "nbformat_minor": 0
}