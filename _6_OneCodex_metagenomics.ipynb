{
 "cells": [
  {
   "cell_type": "markdown",
   "metadata": {},
   "source": [
    "### OneCodex Tutorial\n",
    "To complete this tutorial, you will need to create an account on OneCodex.com\n",
    "OneCodex is a cloud based metagenomic classifier.\n",
    "\n",
    "We will compare the output of the OneCodex classifier to that of our WIMP output."
   ]
  },
  {
   "cell_type": "code",
   "execution_count": 1,
   "metadata": {
    "collapsed": true
   },
   "outputs": [],
   "source": [
    "# Load the required modules\n",
    "import os, subprocess"
   ]
  },
  {
   "cell_type": "code",
   "execution_count": 3,
   "metadata": {
    "collapsed": false
   },
   "outputs": [
    {
     "ename": "SyntaxError",
     "evalue": "invalid syntax (<ipython-input-3-8ccc58f6b698>, line 2)",
     "output_type": "error",
     "traceback": [
      "\u001b[0;36m  File \u001b[0;32m\"<ipython-input-3-8ccc58f6b698>\"\u001b[0;36m, line \u001b[0;32m2\u001b[0m\n\u001b[0;31m    fastq_file = FASTQ_DIR +\u001b[0m\n\u001b[0m                             ^\u001b[0m\n\u001b[0;31mSyntaxError\u001b[0m\u001b[0;31m:\u001b[0m invalid syntax\n"
     ]
    }
   ],
   "source": [
    "FASTQ_DIR = \"\"\n",
    "fastq_file = FASTQ_DIR + \"\"\n",
    "api_key = \"\"  # You can find your api key on your profile. Paste this in here.\n",
    "\n",
    "upload_command = \"onecodex upload --api-key=%s %s\" % (api_key, fastq_file)\n",
    "stderr = subprocess.check_call(upload_command, shell=True, stderr=subprocess.STDOUT)\n",
    "\n",
    "if not stderr == \"\":\n",
    "    print \"Printing stderr of onecodex upload command: %s\" % stderr"
   ]
  },
  {
   "cell_type": "markdown",
   "metadata": {},
   "source": [
    "Now we've uploaded the fastq file we need to go to the website, and we should see the output."
   ]
  }
 ],
 "metadata": {
  "anaconda-cloud": {},
  "kernelspec": {
   "display_name": "Python 2",
   "language": "python",
   "name": "python2"
  },
  "language_info": {
   "codemirror_mode": {
    "name": "ipython",
    "version": 2
   },
   "file_extension": ".py",
   "mimetype": "text/x-python",
   "name": "python",
   "nbconvert_exporter": "python",
   "pygments_lexer": "ipython2",
   "version": "2.7.13"
  }
 },
 "nbformat": 4,
 "nbformat_minor": 1
}
