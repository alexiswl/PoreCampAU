{
 "cells": [
  {
   "cell_type": "markdown",
   "metadata": {
    "collapsed": true
   },
   "source": [
    "Have you ever used fastqc? Now you can use it for nanopore too! \\*  \n",
    "\\* We will be using a version that is currently in development testing."
   ]
  },
  {
   "cell_type": "code",
   "execution_count": null,
   "metadata": {},
   "outputs": [],
   "source": [
    "# Set up the environment\n",
    "import subprocess\n",
    "import os\n",
    "\n",
    "PASS_DIR = \"\"  # Path to the fast5 files.\n",
    "FASTQC_DIR = \"\"  # Path to place the fastqc output.\n",
    "if not os.path.isdir(FASTQC_DIR):\n",
    "    os.mkdir(FASTQC_DIR)  # Creates the fastqc directory if it does not already exist.\n",
    "\n",
    "# Ensure we're using the right fastqc version.\n",
    "p = subprocess.Popen(\"which fastqc\")\n",
    "p.wait()\n",
    "stdout, stderr = p.communicate()\n",
    "print(stdout)  # Print the path to fastqc.\n",
    "\n",
    "p = subprocess.Popen(\"fastqc --version\")\n",
    "p.wait()\n",
    "stdout, stderr = p.communicate()\n",
    "print(stdout)  # Print the fastqc version."
   ]
  },
  {
   "cell_type": "code",
   "execution_count": null,
   "metadata": {},
   "outputs": [],
   "source": [
    "# Run the fastqc command.\n",
    "fastqc_options = []\n",
    "fastqc_options.append(\"--nano\")\n",
    "fastqc_options.append(\"--outdir %s\" % FASTQC_DIR)\n",
    "fastq_command = \"fastqc %s %s\" % (' '.join(fastqc_options), PASS_DIR)\n",
    "p = subprocess.Popen(fastq_command)\n",
    "p.wait()\n",
    "stdout, stderr = p.communicate()"
   ]
  },
  {
   "cell_type": "code",
   "execution_count": null,
   "metadata": {},
   "outputs": [],
   "source": [
    "# Get the fastqc filename\n",
    "# The fastqc filename will be the name of a sequencing strand.\n",
    "# which is a little random plus the .fast5_fastqc suffix.\n",
    "fastqc_suffix = \".fast5_fastqc\"\n",
    "get_file_command = \"ls %s | grep '%s'\" % (FASTQC_DIR, fastqc_suffix)\n",
    "\n",
    "# Now we use the output of this to pass so we can see our html script.\n",
    "p = subprocess.Popen(get_file_command)\n",
    "p.wait()\n",
    "stdout, stderr = p.communicate()\n",
    "fastqc_file = FASTQC_DIR + stdout"
   ]
  },
  {
   "cell_type": "code",
   "execution_count": null,
   "metadata": {},
   "outputs": [],
   "source": [
    "# Now let's have a look at that html.\n",
    "%%HTML -i fastqc_file\n",
    "<iframe src=fastqc_file></iframe>"
   ]
  }
 ],
 "metadata": {
  "kernelspec": {
   "display_name": "Python 2",
   "language": "python",
   "name": "python2"
  },
  "language_info": {
   "codemirror_mode": {
    "name": "ipython",
    "version": 2.0
   },
   "file_extension": ".py",
   "mimetype": "text/x-python",
   "name": "python",
   "nbconvert_exporter": "python",
   "pygments_lexer": "ipython2",
   "version": "2.7.6"
  }
 },
 "nbformat": 4,
 "nbformat_minor": 0
}