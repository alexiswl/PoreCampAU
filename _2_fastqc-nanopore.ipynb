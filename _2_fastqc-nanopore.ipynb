{
 "cells": [
  {
   "cell_type": "markdown",
   "metadata": {
    "collapsed": true
   },
   "source": [
    "Have you ever used fastqc? Now you can use it for nanopore too! \\*  \n",
    "\\* We will be using a version that is currently in development testing."
   ]
  },
  {
   "cell_type": "code",
   "execution_count": null,
   "metadata": {
    "collapsed": true
   },
   "outputs": [],
   "source": [
    "# Set up the environment\n",
    "import subprocess\n",
    "import os\n",
    "from IPython.core.display import display, HTML"
   ]
  },
  {
   "cell_type": "code",
   "execution_count": null,
   "metadata": {
    "collapsed": false
   },
   "outputs": [],
   "source": [
    "PORECAMPAU_DATA_DIR = os.environ.get('PORECAMPAU_DATA_PATH') + \"/\"\n",
    "HOME_DIR = os.environ.get('PORECAMPAU_ANALYSIS_PATH') + \"/\"\n",
    "\n",
    "PASS_DIR = PORECAMPAU_DATA_DIR + \"fast5/e_coli_R9/\"  # Path to the fast5 files.\n",
    "FASTQC_DIR = HOME_DIR + \"fastqc/\"  # Path to place the fastqc output.\n",
    "\n",
    "# Creates the fastqc directory if it does not already exist.\n",
    "if not os.path.isdir(FASTQC_DIR):\n",
    "    os.mkdir(FASTQC_DIR)  \n",
    "\n",
    "# Ensure we're using the right fastqc version.\n",
    "p = subprocess.Popen(\"fastqc --version\", shell=True, stderr=subprocess.PIPE, stdout=subprocess.PIPE)\n",
    "stdout, stderr = p.communicate()\n",
    "print(\"FastQC version: %s\" % stdout)\n",
    "\n",
    "stderr = subprocess.check_output(\"which fastqc\", shell=True, stderr=subprocess.STDOUT)\n",
    "print(\"located in %s\" % stderr)  # Print the path to fastqc.\n",
    "\n",
    "if not stderr == \"\":\n",
    "    print(stderr)"
   ]
  },
  {
   "cell_type": "code",
   "execution_count": null,
   "metadata": {
    "collapsed": false
   },
   "outputs": [],
   "source": [
    "# Run the fastqc command.\n",
    "fastqc_options = []\n",
    "fastqc_options.append(\"--nano\")\n",
    "fastqc_options.append(\"--outdir %s\" % FASTQC_DIR)\n",
    "fastqc_command = \"fastqc %s %s\" % (' '.join(fastqc_options), PASS_DIR)\n",
    "p = subprocess.Popen(fastqc_command, shell=True, stderr=subprocess.PIPE, stdout=subprocess.PIPE)\n",
    "stdout, stderr = p.communicate()\n",
    "\n",
    "print(stdout, stderr)"
   ]
  },
  {
   "cell_type": "code",
   "execution_count": null,
   "metadata": {
    "collapsed": false
   },
   "outputs": [],
   "source": [
    "# Get the fastqc filename\n",
    "# The fastqc filename will be the name of a sequencing strand.\n",
    "# which is a little random plus the .fast5_fastqc suffix.\n",
    "fastqc_suffix = \".fast5_fastqc.html\"\n",
    "\n",
    "fastqc_files = [FASTQC_DIR + fastqc_file for fastqc_file in os.listdir(FASTQC_DIR)\n",
    "               if fastqc_file.endswith(fastqc_suffix)]\n",
    "\n",
    "fastqc_file = fastqc_files[0].replace(HOME_DIR, \"../\")\n",
    "\n",
    "# Print the fastqc_file, will need this to copy this into the src= command in the HTML frame below.\n",
    "# Or alternatively, opened up in a browser.\n",
    "print fastqc_file"
   ]
  },
  {
   "cell_type": "code",
   "execution_count": null,
   "metadata": {
    "collapsed": false,
    "scrolled": true
   },
   "outputs": [],
   "source": [
    "%%HTML\n",
    "<iframe width=\"200%\" height=\"1500\" src=\"insert source file here.\"></iframe>"
   ]
  }
 ],
 "metadata": {
  "kernelspec": {
   "display_name": "Python 2",
   "language": "python",
   "name": "python2"
  },
  "language_info": {
   "codemirror_mode": {
    "name": "ipython",
    "version": 2.0
   },
   "file_extension": ".py",
   "mimetype": "text/x-python",
   "name": "python",
   "nbconvert_exporter": "python",
   "pygments_lexer": "ipython2",
   "version": "2.7.13"
  }
 },
 "nbformat": 4,
 "nbformat_minor": 0
}