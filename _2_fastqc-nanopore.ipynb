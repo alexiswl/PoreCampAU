{
 "cells": [
  {
   "cell_type": "markdown",
   "metadata": {
    "collapsed": true
   },
   "source": [
    "Have you ever used fastqc? Now you can use it for nanopore too! \\*  \n",
    "\\* We will be using a version that is currently in development testing."
   ]
  },
  {
   "cell_type": "code",
   "execution_count": 1,
   "metadata": {
    "collapsed": true
   },
   "outputs": [],
   "source": [
    "# Set up the environment\n",
    "import subprocess\n",
    "import os\n",
    "from IPython.core.display import display, HTML"
   ]
  },
  {
   "cell_type": "code",
   "execution_count": 17,
   "metadata": {
    "collapsed": false
   },
   "outputs": [
    {
     "name": "stdout",
     "output_type": "stream",
     "text": [
      "located in /home/researcher/programs/FastQC/fastqc\n",
      "\n",
      "FastQC version: FastQC v0.11.6.devel\n",
      "\n"
     ]
    }
   ],
   "source": [
    "PASS_DIR = \"/mnt/shared/PoreCampAU/data/fast5/e_coli_R9/\"  # Path to the fast5 files.\n",
    "HOME_DIR = \"/home/researcher/\"\n",
    "FASTQC_DIR = \"/home/researcher/fastqc/\"  # Path to place the fastqc output.\n",
    "if not os.path.isdir(FASTQC_DIR):\n",
    "    os.mkdir(FASTQC_DIR)  # Creates the fastqc directory if it does not already exist.\n",
    "\n",
    "# Ensure we're using the right fastqc version.\n",
    "stderr = subprocess.check_output(\"which fastqc\", shell=True, stderr=subprocess.STDOUT)\n",
    "print(\"located in %s\" % stderr)  # Print the path to fastqc.\n",
    "\n",
    "p = subprocess.Popen(\"fastqc --version\", shell=True, stderr=subprocess.PIPE, stdout=subprocess.PIPE)\n",
    "stdout, stderr = p.communicate()\n",
    "print(\"FastQC version: %s\" % stdout)\n",
    "if not stderr==\"\":\n",
    "    print(stderr)"
   ]
  },
  {
   "cell_type": "code",
   "execution_count": 3,
   "metadata": {
    "collapsed": false
   },
   "outputs": [
    {
     "name": "stdout",
     "output_type": "stream",
     "text": [
      "('Analysis complete for AlexisLucattini_20160816_FNFAD19879_MN19582_sequencing_run_2016_08_16_E_COLI_R9_99720_ch165_read1709_strand1.fast5\\n', 'Basename is AlexisLucattini_20160816_FNFAD19879\\nBasename is AlexisLucattini_20160816_FNFAD19879\\nBasename is AlexisLucattini_20160816_FNFAD19879\\nBasename is AlexisLucattini_20160816_FNFAD19879\\nBasename is AlexisLucattini_20160816_FNFAD19879\\nBasename is AlexisLucattini_20160816_FNFAD19879\\nBasename is AlexisLucattini_20160816_FNFAD19879\\nBasename is AlexisLucattini_20160816_FNFAD19879\\nBasename is AlexisLucattini_20160816_FNFAD19879\\nBasename is AlexisLucattini_20160816_FNFAD19879\\nBasename is AlexisLucattini_20160816_FNFAD19879\\nBasename is AlexisLucattini_20160816_FNFAD19879\\nBasename is AlexisLucattini_20160816_FNFAD19879\\nBasename is AlexisLucattini_20160816_FNFAD19879\\nBasename is AlexisLucattini_20160816_FNFAD19879\\nBasename is AlexisLucattini_20160816_FNFAD19879\\nBasename is AlexisLucattini_20160816_FNFAD19879\\nBasename is AlexisLucattini_20160816_FNFAD19879\\nBasename is AlexisLucattini_20160816_FNFAD19879\\nBasename is AlexisLucattini_20160816_FNFAD19879\\nBasename is AlexisLucattini_20160816_FNFAD19879\\nBasename is AlexisLucattini_20160816_FNFAD19879\\nBasename is AlexisLucattini_20160816_FNFAD19879\\nBasename is AlexisLucattini_20160816_FNFAD19879\\nBasename is AlexisLucattini_20160816_FNFAD19879\\nBasename is AlexisLucattini_20160816_FNFAD19879\\nBasename is AlexisLucattini_20160816_FNFAD19879\\nBasename is AlexisLucattini_20160816_FNFAD19879\\nBasename is AlexisLucattini_20160816_FNFAD19879\\nBasename is AlexisLucattini_20160816_FNFAD19879\\nBasename is AlexisLucattini_20160816_FNFAD19879\\nBasename is AlexisLucattini_20160816_FNFAD19879\\nBasename is AlexisLucattini_20160816_FNFAD19879\\nBasename is AlexisLucattini_20160816_FNFAD19879\\nBasename is AlexisLucattini_20160816_FNFAD19879\\nBasename is AlexisLucattini_20160816_FNFAD19879\\nBasename is AlexisLucattini_20160816_FNFAD19879\\nBasename is AlexisLucattini_20160816_FNFAD19879\\nBasename is AlexisLucattini_20160816_FNFAD19879\\nBasename is AlexisLucattini_20160816_FNFAD19879\\nBasename is AlexisLucattini_20160816_FNFAD19879\\nBasename is AlexisLucattini_20160816_FNFAD19879\\nBasename is AlexisLucattini_20160816_FNFAD19879\\nBasename is AlexisLucattini_20160816_FNFAD19879\\nBasename is AlexisLucattini_20160816_FNFAD19879\\nBasename is AlexisLucattini_20160816_FNFAD19879\\nBasename is AlexisLucattini_20160816_FNFAD19879\\nBasename is AlexisLucattini_20160816_FNFAD19879\\nBasename is AlexisLucattini_20160816_FNFAD19879\\nBasename is AlexisLucattini_20160816_FNFAD19879\\nBasename is AlexisLucattini_20160816_FNFAD19879\\nBasename is AlexisLucattini_20160816_FNFAD19879\\nBasename is AlexisLucattini_20160816_FNFAD19879\\nBasename is AlexisLucattini_20160816_FNFAD19879\\nBasename is AlexisLucattini_20160816_FNFAD19879\\nBasename is AlexisLucattini_20160816_FNFAD19879\\nBasename is AlexisLucattini_20160816_FNFAD19879\\nBasename is AlexisLucattini_20160816_FNFAD19879\\nBasename is AlexisLucattini_20160816_FNFAD19879\\nBasename is AlexisLucattini_20160816_FNFAD19879\\nBasename is AlexisLucattini_20160816_FNFAD19879\\nBasename is AlexisLucattini_20160816_FNFAD19879\\nBasename is AlexisLucattini_20160816_FNFAD19879\\nBasename is AlexisLucattini_20160816_FNFAD19879\\nBasename is AlexisLucattini_20160816_FNFAD19879\\nBasename is AlexisLucattini_20160816_FNFAD19879\\nBasename is AlexisLucattini_20160816_FNFAD19879\\nBasename is AlexisLucattini_20160816_FNFAD19879\\nBasename is AlexisLucattini_20160816_FNFAD19879\\nBasename is AlexisLucattini_20160816_FNFAD19879\\nBasename is AlexisLucattini_20160816_FNFAD19879\\nBasename is AlexisLucattini_20160816_FNFAD19879\\nBasename is AlexisLucattini_20160816_FNFAD19879\\nBasename is AlexisLucattini_20160816_FNFAD19879\\nBasename is AlexisLucattini_20160816_FNFAD19879\\nBasename is AlexisLucattini_20160816_FNFAD19879\\nBasename is AlexisLucattini_20160816_FNFAD19879\\nBasename is AlexisLucattini_20160816_FNFAD19879\\nBasename is AlexisLucattini_20160816_FNFAD19879\\nBasename is AlexisLucattini_20160816_FNFAD19879\\nBasename is AlexisLucattini_20160816_FNFAD19879\\nBasename is AlexisLucattini_20160816_FNFAD19879\\nBasename is AlexisLucattini_20160816_FNFAD19879\\nBasename is AlexisLucattini_20160816_FNFAD19879\\nBasename is AlexisLucattini_20160816_FNFAD19879\\nBasename is AlexisLucattini_20160816_FNFAD19879\\nBasename is AlexisLucattini_20160816_FNFAD19879\\nBasename is AlexisLucattini_20160816_FNFAD19879\\nBasename is AlexisLucattini_20160816_FNFAD19879\\nBasename is AlexisLucattini_20160816_FNFAD19879\\nBasename is AlexisLucattini_20160816_FNFAD19879\\nBasename is AlexisLucattini_20160816_FNFAD19879\\nBasename is AlexisLucattini_20160816_FNFAD19879\\nBasename is AlexisLucattini_20160816_FNFAD19879\\nBasename is AlexisLucattini_20160816_FNFAD19879\\nBasename is AlexisLucattini_20160816_FNFAD19879\\nBasename is AlexisLucattini_20160816_FNFAD19879\\nBasename is AlexisLucattini_20160816_FNFAD19879\\nBasename is AlexisLucattini_20160816_FNFAD19879\\nBasename is AlexisLucattini_20160816_FNFAD19879\\nStarted analysis of AlexisLucattini_20160816_FNFAD19879_MN19582_sequencing_run_2016_08_16_E_COLI_R9_99720_ch165_read1709_strand1.fast5\\nFontconfig warning: ignoring C.UTF-8: not a valid language tag\\n')\n"
     ]
    }
   ],
   "source": [
    "# Run the fastqc command.\n",
    "fastqc_options = []\n",
    "fastqc_options.append(\"--nano\")\n",
    "fastqc_options.append(\"--outdir %s\" % FASTQC_DIR)\n",
    "fastqc_command = \"fastqc %s %s\" % (' '.join(fastqc_options), PASS_DIR)\n",
    "p = subprocess.Popen(fastqc_command, shell=True, stderr=subprocess.PIPE, stdout=subprocess.PIPE)\n",
    "stdout, stderr = p.communicate()\n",
    "\n",
    "print(stdout, stderr)"
   ]
  },
  {
   "cell_type": "code",
   "execution_count": 18,
   "metadata": {
    "collapsed": false
   },
   "outputs": [
    {
     "name": "stdout",
     "output_type": "stream",
     "text": [
      "../fastqc/AlexisLucattini_20160816_FNFAD19879_MN19582_sequencing_run_2016_08_16_E_COLI_R9_99720_ch165_read1709_strand1.fast5_fastqc.html\n"
     ]
    }
   ],
   "source": [
    "# Get the fastqc filename\n",
    "# The fastqc filename will be the name of a sequencing strand.\n",
    "# which is a little random plus the .fast5_fastqc suffix.\n",
    "fastqc_suffix = \".fast5_fastqc.html\"\n",
    "\n",
    "fastqc_files = [FASTQC_DIR + fastqc_file for fastqc_file in os.listdir(FASTQC_DIR)\n",
    "               if fastqc_file.endswith(fastqc_suffix)]\n",
    "\n",
    "fastqc_file = fastqc_files[0].replace(HOME_DIR, \"../\")\n",
    "\n",
    "# Print the fastqc_file, will need this to copy this into the src= command in the HTML frame below.\n",
    "print fastqc_file"
   ]
  },
  {
   "cell_type": "code",
   "execution_count": 14,
   "metadata": {
    "collapsed": false,
    "scrolled": true
   },
   "outputs": [
    {
     "data": {
      "text/html": [
       "<iframe width=\"200%\" height=\"1500\" src=\"../fastqc/AlexisLucattini_20160816_FNFAD19879_MN19582_sequencing_run_2016_08_16_E_COLI_R9_99720_ch165_read1709_strand1.fast5_fastqc.html\"></iframe>"
      ],
      "text/plain": [
       "<IPython.core.display.HTML object>"
      ]
     },
     "metadata": {},
     "output_type": "display_data"
    }
   ],
   "source": [
    "%%HTML\n",
    "<iframe width=\"200%\" height=\"1500\" src=\"insert source file here.\"></iframe>"
   ]
  }
 ],
 "metadata": {
  "kernelspec": {
   "display_name": "Python 2",
   "language": "python",
   "name": "python2"
  },
  "language_info": {
   "codemirror_mode": {
    "name": "ipython",
    "version": 2
   },
   "file_extension": ".py",
   "mimetype": "text/x-python",
   "name": "python",
   "nbconvert_exporter": "python",
   "pygments_lexer": "ipython2",
   "version": "2.7.13"
  }
 },
 "nbformat": 4,
 "nbformat_minor": 0
}
