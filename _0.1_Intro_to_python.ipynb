{
 "cells": [
  {
   "cell_type": "markdown",
   "metadata": {
    "collapsed": true
   },
   "source": [
    "## The very fast introduction to python.\n",
    "Author: Alexis Lucattini  \n",
    "Email: alexiswl@student.unimelb.edu.au\n",
    "\n",
    "In this introduction we will go through various ways that information can be imported, stored and exported using python. Python is great, and so much more readable than other programming languages.\n",
    "\n",
    "This introduction will also teach you jupyter notebooks. These are interactive scripts, where you choose whether you wish to just press the play button, or edit the code and see the the output change as a result.\n",
    "If you are unfamiliar with a piece of code, or unsure how the code is working, adding print statements of variables throughout the code is a great start to see how things are processing.\n",
    "\n",
    "The best way to learn programming is a mixture of practise, patience and pain. Reading other programmers, well-documented code can also be useful. I hope that you experience that here."
   ]
  },
  {
   "cell_type": "code",
   "execution_count": null,
   "metadata": {
    "collapsed": false
   },
   "outputs": [],
   "source": [
    "# This is a block of code.\n",
    "# To prevent the compiler from thinking that our comments are code we use the hashtag at the start\n",
    "# of the line.\n",
    "x = 5\n",
    "y = 3\n",
    "print x+y\n",
    "print x*y"
   ]
  },
  {
   "cell_type": "markdown",
   "metadata": {},
   "source": [
    "What about arrays, how could I make an array?\n",
    "We don't so much do 'arrays' in python. Instead we have tuples and lists.\n",
    "Tuples can be of many different types, where as lists must be all of one type."
   ]
  },
  {
   "cell_type": "code",
   "execution_count": null,
   "metadata": {
    "collapsed": false
   },
   "outputs": [],
   "source": [
    "my_tuple = ('Eggs', 'Ham', 'Cheese', 4)  # Use normal brackets to declare a tuple \n",
    "my_list = [5, 6, 2, 1]  # Use square brackets to declare a list.\n",
    "\n",
    "print(my_tuple[0])  # Will print the first of the tuple - Eggs\n",
    "print(my_list[0])  # Will print the first of the list - 5"
   ]
  },
  {
   "cell_type": "markdown",
   "metadata": {},
   "source": [
    "Easy? Yep. That's python for you.  \n",
    "We will now introduce printing strings.\n"
   ]
  },
  {
   "cell_type": "code",
   "execution_count": null,
   "metadata": {
    "collapsed": false
   },
   "outputs": [],
   "source": [
    "phrase = \"Hello World\"\n",
    "print(phrase)  # Prints the phrase 'Hello World'\n",
    "\n",
    "# Let's split the string.\n",
    "split_phrase = phrase.split(\" \")  # Splits the string by spaces\n",
    "print split_phrase[1], split_phrase[0]"
   ]
  },
  {
   "cell_type": "markdown",
   "metadata": {},
   "source": [
    "The split command can be very useful, say you're trying to grab the filename of a file path.\n",
    "The split command will turn the string into an array of characters instead."
   ]
  },
  {
   "cell_type": "code",
   "execution_count": null,
   "metadata": {
    "collapsed": false
   },
   "outputs": [],
   "source": [
    "path = \"/home/alexis/path/to/folder/name_of_file.file\"\n",
    "split_path = path.split(\"/\")\n",
    "filename = split_path[-1]  # The negative reverses the order with -1 being the last element.\n",
    "print filename"
   ]
  },
  {
   "cell_type": "markdown",
   "metadata": {},
   "source": [
    "What happens when we trying and print a list like split_path above?"
   ]
  },
  {
   "cell_type": "code",
   "execution_count": null,
   "metadata": {
    "collapsed": false
   },
   "outputs": [],
   "source": [
    "print(split_path)"
   ]
  },
  {
   "cell_type": "markdown",
   "metadata": {},
   "source": [
    "Ugh! That\\'s pretty ugly. We can use the join function to put them all back together."
   ]
  },
  {
   "cell_type": "code",
   "execution_count": null,
   "metadata": {
    "collapsed": false
   },
   "outputs": [],
   "source": [
    "print(' '.join(split_path))  # This will print the variable with spaces in between each output."
   ]
  },
  {
   "cell_type": "markdown",
   "metadata": {},
   "source": [
    "Along with lists and tuples, dictionaries are also very useful when it comes to\n",
    "programming in Python. I think dictionaries are my favourite storage array."
   ]
  },
  {
   "cell_type": "code",
   "execution_count": null,
   "metadata": {
    "collapsed": true
   },
   "outputs": [],
   "source": [
    "my_dict = {}  # We can initialise a dictionary with those curly brace things.\n",
    "my_dict[\"my_key\"] = \"my_value\"  # Dictionaries have keys and values, the equivalent of words\n",
    "                                # and descriptions in conventional dictionaries.\n",
    "                                \n",
    "print(my_dict[\"my_key\"])  # Will print the value of the key."
   ]
  },
  {
   "cell_type": "markdown",
   "metadata": {},
   "source": [
    "Let's make a dictionary with some context. We will show an easier way to initialise a dictionary below. How about we make a shopping dictionary?"
   ]
  },
  {
   "cell_type": "code",
   "execution_count": null,
   "metadata": {
    "collapsed": true
   },
   "outputs": [],
   "source": [
    "shopping_dict = {\"bananas\": 4.00, \"apples\": 2.99, \"carrots\": 1.50}\n",
    "\n",
    "print(\"Print the price of bananas is: \" + shopping_dict[\"bananas\"])"
   ]
  },
  {
   "cell_type": "markdown",
   "metadata": {},
   "source": [
    "What if I wanted to print the price in the middle of that sentence? We can use the percent sign to place variables nicely into strings."
   ]
  },
  {
   "cell_type": "code",
   "execution_count": null,
   "metadata": {
    "collapsed": false
   },
   "outputs": [],
   "source": [
    "nine = 9\n",
    "print(\"Man, why is it %d bucks for a decent pint of beer in Melbourne\" % nine)"
   ]
  }
 ],
 "metadata": {
  "kernelspec": {
   "display_name": "Python 2",
   "language": "python",
   "name": "python2"
  },
  "language_info": {
   "codemirror_mode": {
    "name": "ipython",
    "version": 2
   },
   "file_extension": ".py",
   "mimetype": "text/x-python",
   "name": "python",
   "nbconvert_exporter": "python",
   "pygments_lexer": "ipython2",
   "version": "2.7.13"
  }
 },
 "nbformat": 4,
 "nbformat_minor": 0
}
