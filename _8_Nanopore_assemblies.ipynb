{
 "cells": [
  {
   "cell_type": "markdown",
   "metadata": {},
   "source": [
    "### Assembling genomes with nanopore reads.\n",
    "\n",
    "I don't mean to disappoint, but we're not actually going to be doing any assemblies today.\n",
    "Mainly because this would quite easily crash the servers and then the fun of today would be well and truly over.\n",
    "\n",
    "Fortunately, Ryan Wick has been generous enough to donate his assemblies of genomes with the nanopore for us to play with.\n",
    "\n",
    "Step 1: Download this [dropbox link](https://www.dropbox.com/sh/c8j77nqt8hxi61z/AAAIxE9fWox1vX9q3RDOXRWwa?dl=0)\n",
    "Step 2: Download bandage.\n",
    "Step 3: Enjoy.\n",
    "Step 4: Repeat with more [data](https://www.dropbox.com/sh/ydcy2pqocru007u/AAClRNjNaW0rSm7v4MKMhOu0a?dl=0)\n"
   ]
  }
 ],
 "metadata": {
  "anaconda-cloud": {},
  "kernelspec": {
   "display_name": "Python 2",
   "language": "python",
   "name": "python2"
  },
  "language_info": {
   "codemirror_mode": {
    "name": "ipython",
    "version": 2
   },
   "file_extension": ".py",
   "mimetype": "text/x-python",
   "name": "python",
   "nbconvert_exporter": "python",
   "pygments_lexer": "ipython2",
   "version": "2.7.13"
  }
 },
 "nbformat": 4,
 "nbformat_minor": 1
}
