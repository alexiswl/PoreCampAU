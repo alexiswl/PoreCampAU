{
 "cells": [
  {
   "cell_type": "markdown",
   "metadata": {},
   "source": [
    "### Assembling genomes with nanopore reads.\n",
    "\n",
    "I don't mean to disappoint, but we're not actually going to be doing any assemblies today.\n",
    "Mainly because this would quite easily crash the servers and then the fun of today would be well and truly over.\n",
    "\n",
    "Fortunately, Ryan Wick has been generous enough to donate his assemblies of genomes with the nanopore for us to play with.\n",
    "\n"
   ]
  }
 ],
 "metadata": {
  "anaconda-cloud": {},
  "kernelspec": {
   "display_name": "Python [conda root]",
   "language": "python",
   "name": "conda-root-py"
  },
  "language_info": {
   "codemirror_mode": {
    "name": "ipython",
    "version": 2
   },
   "file_extension": ".py",
   "mimetype": "text/x-python",
   "name": "python",
   "nbconvert_exporter": "python",
   "pygments_lexer": "ipython2",
   "version": "2.7.12"
  }
 },
 "nbformat": 4,
 "nbformat_minor": 1
}
