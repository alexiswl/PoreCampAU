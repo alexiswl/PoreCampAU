{
 "cells": [
  {
   "cell_type": "markdown",
   "metadata": {},
   "source": [
    " ### IGV, Interactive Genome Viewer.\n",
    " Have you used IGV before? Probably. It's an awesome way to see your reads stacked up against a reference!\n",
    " \n",
    " Using the E coli reference genome we will compare the output of the different chemistries, the basecalling algorithms used for the same chemistry and the reads of a nanopolished file.\n",
    " \n",
    " IGV is a great way to see what type of errors are seen in the nanopore. Homopolymers can cause issues as you should be able to observe. Most of the errors in nanopore reads can be seen to be insertion/deletion errors, an issue when determining if a change in the current is due to a nucleotide or just noise."
   ]
  },
  {
   "cell_type": "code",
   "execution_count": 2,
   "metadata": {
    "collapsed": true
   },
   "outputs": [],
   "source": [
    "import os, subprocess, re\n",
    "from igv import IGV, Reference, Track"
   ]
  },
  {
   "cell_type": "code",
   "execution_count": 12,
   "metadata": {
    "collapsed": false
   },
   "outputs": [
    {
     "name": "stdout",
     "output_type": "stream",
     "text": [
      "/mnt/shared/PoreCampAU/data/alignment/e_coli_R9/metrichor2d_nanopolish/nanopolish_e_coli_output.sorted.bam\n",
      "/mnt/shared/PoreCampAU/data/alignment/e_coli_R9/metrichor/2016-11-14_E_COLI_R9_bwa-mem.sorted.bam\n",
      "/mnt/shared/PoreCampAU/data/alignment/e_coli_R9/nanonet2d/2016-11-15_E_COLI_R9_bwa-mem.sorted.bam\n"
     ]
    }
   ],
   "source": [
    "# Show paths to the bam files\n",
    "reference_file = \"references/e_coli_k12_mg1655/NC_000913.fna\"\n",
    "bam_dir = \"/mnt/shared/PoreCampAU/data/alignment/e_coli_R9/\"\n",
    "my_alignment_dir = \"/home/researcher/alignment/\"\n",
    "# List the set of files in the bam directory\n",
    "for dirpath, dirnames, filenames in os.walk(bam_dir):\n",
    "    if len(filenames) == 0:  # empty folder\n",
    "        continue\n",
    "    for filename in filenames:\n",
    "        if not filename.endswith(\".bam\"):  # Not a bam file, maybe an index file.\n",
    "            continue\n",
    "        print dirpath + \"/\" + filename"
   ]
  },
  {
   "cell_type": "code",
   "execution_count": 8,
   "metadata": {
    "collapsed": false
   },
   "outputs": [
    {
     "data": {
      "text/html": [
       "\n",
       "            <div id=\"igv_5840792\" class=\"igv-js\"></div>\n",
       "            <script type=\"text/javascript\">\n",
       "                require([location.origin + Jupyter.contents.base_url + \"nbextensions/igv/igv-jupyter.js\"], function() {\n",
       "                    var div = $(\"#igv_5840792.igv-js\")[0], options = {\"showKaryo\": false, \"hideIdeogram\": false, \"flanking\": 1000, \"locus\": \"\", \"doubleClickDelay\": 500, \"showNavigation\": true, \"showRuler\": true, \"showCursorTrackingGuide\": true, \"showCenterGuide\": true};\n",
       "                    igv.createBrowser(div, options);\n",
       "                });\n",
       "            </script>\n",
       "            "
      ],
      "text/plain": [
       "<igv.IGV instance at 0x7fb1c456bea8>"
      ]
     },
     "execution_count": 8,
     "metadata": {},
     "output_type": "execute_result"
    }
   ],
   "source": [
    "IGV(locus=\"\")"
   ]
  },
  {
   "cell_type": "markdown",
   "metadata": {},
   "source": [
    "It's easy to visually see the differences in quality between each chemistry and alignment algorithm.\n",
    "However, quantitative metrics are often easier to explain to someone.\n",
    "To do this, we'll use the stats module of samtools to generate a stats report from the bam file."
   ]
  },
  {
   "cell_type": "code",
   "execution_count": 21,
   "metadata": {
    "collapsed": false
   },
   "outputs": [
    {
     "name": "stdout",
     "output_type": "stream",
     "text": [
      "Stderr = 0\n"
     ]
    }
   ],
   "source": [
    "bam_file = \"/mnt/shared/PoreCampAU/data/alignment/e_coli_R9/nanonet2d/2016-11-15_E_COLI_R9_bwa-mem.sorted.bam\"\n",
    "stats_file = my_alignment_dir + \"e_coli_R9_metrichor_stats.txt\"  # rename this for each bam file to stop overwriting.\n",
    "samtools_stats_command = \"samtools stats %s > %s\" % (bam_file, stats_file)\n",
    "stderr = subprocess.check_call(samtools_stats_command, shell=True, stderr=subprocess.STDOUT)\n",
    "\n",
    "if not stderr==\"\":\n",
    "    print \"Stderr = %s\" % stderr"
   ]
  },
  {
   "cell_type": "markdown",
   "metadata": {},
   "source": [
    "Cool, now this file is particularly big for a summary sheet.\n",
    "Fortunately it's sorted into components that we can extract using the grep command.\n",
    "...we could also use python, because python is beautiful."
   ]
  },
  {
   "cell_type": "code",
   "execution_count": 22,
   "metadata": {
    "collapsed": false
   },
   "outputs": [
    {
     "name": "stdout",
     "output_type": "stream",
     "text": [
      "SN\traw total sequences:\t91574\n",
      "SN\tfiltered sequences:\t0\n",
      "SN\tsequences:\t91574\n",
      "SN\tis sorted:\t1\n",
      "SN\t1st fragments:\t91574\n",
      "SN\tlast fragments:\t0\n",
      "SN\treads mapped:\t83319\n",
      "SN\treads mapped and paired:\t0\t# paired-end technology bit set + both mates mapped\n",
      "SN\treads unmapped:\t8255\n",
      "SN\treads properly paired:\t0\t# proper-pair bit set\n",
      "SN\treads paired:\t0\t# paired-end technology bit set\n",
      "SN\treads duplicated:\t0\t# PCR or optical duplicate bit set\n",
      "SN\treads MQ0:\t269\t# mapped and MQ=0\n",
      "SN\treads QC failed:\t0\n",
      "SN\tnon-primary alignments:\t0\n",
      "SN\ttotal length:\t371874194\t# ignores clipping\n",
      "SN\tbases mapped:\t358737834\t# ignores clipping\n",
      "SN\tbases mapped (cigar):\t338367121\t# more accurate\n",
      "SN\tbases trimmed:\t0\n",
      "SN\tbases duplicated:\t0\n",
      "SN\tmismatches:\t50379129\t# from NM fields\n",
      "SN\terror rate:\t1.488889e-01\t# mismatches / bases mapped (cigar)\n",
      "SN\taverage length:\t4060\n",
      "SN\tmaximum length:\t11409\n",
      "SN\taverage quality:\t255.0\n",
      "SN\tinsert size average:\t0.0\n",
      "SN\tinsert size standard deviation:\t0.0\n",
      "SN\tinward oriented pairs:\t0\n",
      "SN\toutward oriented pairs:\t0\n",
      "SN\tpairs with other orientation:\t0\n",
      "SN\tpairs on different chromosomes:\t0\n"
     ]
    }
   ],
   "source": [
    "stats_file_handler = open(stats_file, 'r')\n",
    "for line in stats_file_handler:\n",
    "    if line.startswith(\"SN\\t\"):\n",
    "        print(line.rstrip()) # rstrip gets rid of the \\n at the end of the line.\n",
    "stats_file_handler.close()"
   ]
  },
  {
   "cell_type": "code",
   "execution_count": null,
   "metadata": {
    "collapsed": true
   },
   "outputs": [],
   "source": []
  }
 ],
 "metadata": {
  "anaconda-cloud": {},
  "kernelspec": {
   "display_name": "Python 2",
   "language": "python",
   "name": "python2"
  },
  "language_info": {
   "codemirror_mode": {
    "name": "ipython",
    "version": 2
   },
   "file_extension": ".py",
   "mimetype": "text/x-python",
   "name": "python",
   "nbconvert_exporter": "python",
   "pygments_lexer": "ipython2",
   "version": "2.7.13"
  }
 },
 "nbformat": 4,
 "nbformat_minor": 1
}
