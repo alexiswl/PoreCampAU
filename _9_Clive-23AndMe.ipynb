{
 "cells": [
  {
   "cell_type": "markdown",
   "metadata": {
    "collapsed": true
   },
   "source": [
    "#### CliveOME vs 23AndMe\n",
    "\n",
    "Late last year, Clive Brown the CEO of Oxford Nanopore used the MinION to sequence his own genome.\n",
    "\n",
    "In this tutorial we will use the 23andMe CliveOme data to check up on a few of Clive's SNPs.\n",
    "SNP = Single Nucleotide Polymorphism\n",
    "\n",
    "We can then tweet to him any health risks that we find (not sure if this is ethical, but he did publically upload this data) - ONT would rather you didn't do this..."
   ]
  },
  {
   "cell_type": "markdown",
   "metadata": {},
   "source": [
    "We wil use R in this tutorial as it is very good at reading in text files and spitting out an answer.\n",
    "\n",
    "You will need to use the website [SNPedia](https://snpedia.com) in order to determine SNP associations.\n"
   ]
  },
  {
   "cell_type": "code",
   "execution_count": null,
   "metadata": {
    "collapsed": false
   },
   "outputs": [],
   "source": [
    "# Obtain the snp file\n",
    "\n",
    "# Tab delimited text file\n",
    "# rsid \\t chromosome \\t chomosomal position of snp \\t genotype\n",
    "\n",
    "PORECAMPAU_DATA_DIR = os.environ.get('PORECAMPAU_DATA_PATH') + \"/\"\n",
    "HOME_DIR = os.environ.get('PORECAMPAU_ANALYSIS_PATH') + \"/\"\n",
    "\n",
    "clive.snps.file <- PORECAMPAU_DATA_DIR + \"SNP/genome_Clive_Brown_v2_Full_20161123020445.txt\"\n",
    "clive.snps.names <- c(\"rsID\", \"Chromosome\", \"Position\", \"Genotype\")"
   ]
  },
  {
   "cell_type": "code",
   "execution_count": null,
   "metadata": {
    "collapsed": false
   },
   "outputs": [],
   "source": [
    "# Read in the SNP data to R\n",
    "clive.snps.data <- read.table(clive.snps.file, sep=\"\\t\", header=FALSE)\n",
    "names(clive.snps.data) <- names(clive.snps.names)  # renames the columns"
   ]
  },
  {
   "cell_type": "markdown",
   "metadata": {},
   "source": [
    "Now set the rsid variable in the next code block to determine the genotype of Clive at that particular SNP."
   ]
  },
  {
   "cell_type": "code",
   "execution_count": null,
   "metadata": {
    "collapsed": false
   },
   "outputs": [],
   "source": [
    "rsid <- \"\"   # insert the rsid here i.e rs123456\n",
    "\n",
    "genotype <- as.character(clive.snps.data[with(clive.snps.data, \"rsID\"==rsid), \"Genotype\"])\n",
    "\n",
    "if(length(genotype) == 0){\n",
    "    cat(\"Could not find the rsID in Clive.\\n\")\n",
    "}\n",
    "cat(paste(genotype, \"\\n\", sep=\"\"))  # Printing the genotype for Clive at rsID"
   ]
  },
  {
   "cell_type": "markdown",
   "metadata": {},
   "source": [
    "Using the command above can you answer the following questions:\n",
    "\n",
    "*  What does the SNP data say about Clive's eye colour?\n",
    "*  What does the SNP data say about Clive's blood type?\n",
    "*  What does the SNP data say about Clive's baldness.\n",
    "\n",
    "For some more interesting/unethical analysis, see this [blogpost](http://slatestarcodex.com/2014/11/12/how-to-use-23andme-irresponsibly/)"
   ]
  }
 ],
 "metadata": {
  "anaconda-cloud": {},
  "kernelspec": {
   "display_name": "R",
   "language": "R",
   "name": "ir"
  },
  "language_info": {
   "codemirror_mode": "r",
   "file_extension": ".r",
   "mimetype": "text/x-r-source",
   "name": "R",
   "pygments_lexer": "r",
   "version": "3.3.2"
  }
 },
 "nbformat": 4,
 "nbformat_minor": 0
}