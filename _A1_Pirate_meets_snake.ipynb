{
 "cells": [
  {
   "cell_type": "code",
   "execution_count": null,
   "metadata": {
    "collapsed": true
   },
   "outputs": [],
   "source": [
    "%load_ext rpy2.ipython\n",
    "import numpy as np"
   ]
  },
  {
   "cell_type": "markdown",
   "metadata": {},
   "source": [
    "We don't just have to do python. We can also run R on these notebooks. (In my opinion the second best coding language there is!!)\n",
    "\n",
    "To Run R all we need to do is add %%R to the start of the code block to politely tell the console that we'd like this block of code to be in R."
   ]
  },
  {
   "cell_type": "code",
   "execution_count": null,
   "metadata": {
    "collapsed": false
   },
   "outputs": [],
   "source": [
    "x = np.array([3,4,5,6,7])\n",
    "y = np.array([5,6,12,15,61])"
   ]
  },
  {
   "cell_type": "code",
   "execution_count": null,
   "metadata": {
    "collapsed": false
   },
   "outputs": [],
   "source": [
    "%%R -i x,y -o mycoef \n",
    "# -i allows x and y to be imported into R.\n",
    "xylm = lm(y~x)\n",
    "mycoef = coef(xylm)\n",
    "par(mfrow = c(2,2))\n",
    "plot(xylm)"
   ]
  },
  {
   "cell_type": "markdown",
   "metadata": {},
   "source": [
    "#### OOOH BABY!!! \n",
    "We've just combined the two best programming languages on the planet. \n",
    "Remember the mycoef variable, well because we put it after the -o the variable will be availble to the rest of the code blocks."
   ]
  },
  {
   "cell_type": "code",
   "execution_count": null,
   "metadata": {
    "collapsed": false
   },
   "outputs": [],
   "source": [
    "print ' '.join(map(str, mycoef))  # This is python again. Mind blown."
   ]
  },
  {
   "cell_type": "markdown",
   "metadata": {},
   "source": [
    "With R and Python as allies now we can move forward and use the sound logic of python with the beautiful plots of R to make some pretty cool graphs of our MinION data."
   ]
  }
 ],
 "metadata": {
  "anaconda-cloud": {},
  "kernelspec": {
   "display_name": "Python 2",
   "language": "python",
   "name": "python2"
  },
  "language_info": {
   "codemirror_mode": {
    "name": "ipython",
    "version": 2
   },
   "file_extension": ".py",
   "mimetype": "text/x-python",
   "name": "python",
   "nbconvert_exporter": "python",
   "pygments_lexer": "ipython2",
   "version": "2.7.13"
  }
 },
 "nbformat": 4,
 "nbformat_minor": 0
}
