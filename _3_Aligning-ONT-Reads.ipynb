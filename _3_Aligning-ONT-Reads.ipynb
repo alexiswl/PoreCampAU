{
 "cells": [
  {
   "cell_type": "markdown",
   "metadata": {
    "collapsed": true
   },
   "source": [
    "#### Alignment:\n",
    "The good news: Oxford nanopore reads are extrememly long. Repeat regions are no match for long reads, the variable flanking regions around the repeat can determine where in the genome this read belongs. It also means that any ambiguity in alignment is cleared up through other regions in the read.\n",
    "The bad news: Oxford nanopore reads lack accuracy compared to other second generation sequencing technologies.\n",
    "Therefore, seed-and-extend algorithms have had to change tack a bit to allow for more mismatches in the seed before dismissing a read entirely.\n",
    "We will use a bwa mem variant that has the parameters optimised for Oxford Nanopore reads.\n",
    "This tutorial will take you through the basics of converting a set of fastq files to a sam file to a sorted bam file.\n",
    "It is important for bam files to be sorted for many downstream analysis.\n",
    "It's \"sorted\" in the computer way. Bam files are sam files in binary format so it isn't easy to show how the end result.\n",
    "We can use the fastq files that we extracted from our fast5 files and compare the accuracies over the different chemistries."
   ]
  },
  {
   "cell_type": "code",
   "execution_count": 1,
   "metadata": {
    "collapsed": true
   },
   "outputs": [],
   "source": [
    "# Import the modules we need.\n",
    "import os\n",
    "import subprocess\n",
    "from Bio import Entrez, SeqIO"
   ]
  },
  {
   "cell_type": "code",
   "execution_count": 2,
   "metadata": {
    "collapsed": false
   },
   "outputs": [],
   "source": [
    "# Set the directories:\n",
    "SOURCE_DIR = \"/mnt/shared/PoreCampAU/\"\n",
    "HOME_DIR = \"/home/researcher/\"\n",
    "FASTQ_DIRECTORY = SOURCE_DIR + \"data/fastq/\"\n",
    "ALIGNMENT_DIRECTORY = HOME_DIR + \"alignment/\"\n",
    "\n",
    "# Create the alignment directory if it doesn't already exist.\n",
    "if not os.path.isdir(ALIGNMENT_DIRECTORY):\n",
    "    os.mkdir(ALIGNMENT_DIRECTORY)"
   ]
  },
  {
   "cell_type": "code",
   "execution_count": 3,
   "metadata": {
    "collapsed": false
   },
   "outputs": [],
   "source": [
    "# Download the reference \n",
    "from Bio import Entrez, SeqIO\n",
    "\n",
    "# Use your own email here\n",
    "Entrez.email = \"alexiswl@student.unimelb.edu.au\"\n",
    "\n",
    "# Create reference directory and file name.\n",
    "reference_directory = \"/home/researcher/references/\"\n",
    "if not os.path.isdir(reference_directory):\n",
    "    os.mkdir(reference_directory)\n",
    "reference_name = \"Escherichia_coli_k12_MG1655\"\n",
    "reference_file = reference_directory + reference_name + \".fa\"\n",
    "uid = \"U00096.3\"  # This is the uid for E coli genome strain K-12 MG1655\n",
    "handle = Entrez.efetch(db=\"nucleotide\", id=uid, rettype=\"fasta\")\n",
    "fasta_handler = SeqIO.read(handle, \"fasta\")\n",
    "reference_handler = open(reference_file, \"w\")\n",
    "SeqIO.write(fasta_handler, reference_handler, \"fasta\")\n",
    "reference_handler.close()  # Always close the door behind you."
   ]
  },
  {
   "cell_type": "code",
   "execution_count": 4,
   "metadata": {
    "collapsed": true
   },
   "outputs": [],
   "source": [
    "# Use samtools to generate a fasta index for the reference file.\n",
    "command = \"samtools faidx %s\" % reference_file\n",
    "stderr = subprocess.check_output(command, shell=True, stderr=subprocess.STDOUT)\n",
    "\n",
    "if not stderr == \"\":\n",
    "    print(stderr)"
   ]
  },
  {
   "cell_type": "code",
   "execution_count": 5,
   "metadata": {
    "collapsed": false
   },
   "outputs": [
    {
     "name": "stdout",
     "output_type": "stream",
     "text": [
      "Stderr:\n",
      "[bwa_index] Pack FASTA... 0.07 sec\n",
      "[bwa_index] Construct BWT for the packed sequence...\n",
      "[bwa_index] 1.51 seconds elapse.\n",
      "[bwa_index] Update BWT... 0.05 sec\n",
      "[bwa_index] Pack forward-only FASTA... 0.05 sec\n",
      "[bwa_index] Construct SA from BWT and Occ... 0.85 sec\n",
      "[main] Version: 0.7.15-r1140\n",
      "[main] CMD: bwa index /home/researcher/references/Escherichia_coli_k12_MG1655.fa\n",
      "[main] Real time: 3.383 sec; CPU: 2.539 sec\n",
      "\n"
     ]
    }
   ],
   "source": [
    "# Before we run bwa mem, we will also need to run bwa index on the reference file\n",
    "bwa_index_command = \"bwa index %s\" % reference_file\n",
    "stderr = subprocess.check_output(bwa_index_command, shell=True, stderr=subprocess.STDOUT)\n",
    "\n",
    "if not stderr == \"\":\n",
    "    print(\"Stderr:\\n%s\" % stderr)"
   ]
  },
  {
   "cell_type": "code",
   "execution_count": 30,
   "metadata": {
    "collapsed": false
   },
   "outputs": [
    {
     "name": "stdout",
     "output_type": "stream",
     "text": [
      "Stderr:\n",
      "[M::bwa_idx_load_from_disk] read 0 ALT contigs\n",
      "[M::process] read 1792 sequences (10014122 bp)...\n",
      "[M::process] read 1778 sequences (10007342 bp)...\n",
      "[M::mem_process_seqs] Processed 1792 reads in 71.049 CPU sec, 71.289 real sec\n",
      "[M::process] read 1770 sequences (10000980 bp)...\n",
      "[M::mem_process_seqs] Processed 1778 reads in 69.119 CPU sec, 69.299 real sec\n",
      "[M::process] read 1778 sequences (10005590 bp)...\n",
      "[M::mem_process_seqs] Processed 1770 reads in 74.745 CPU sec, 74.945 real sec\n",
      "[M::process] read 1766 sequences (10003422 bp)...\n",
      "[M::mem_process_seqs] Processed 1778 reads in 69.057 CPU sec, 69.208 real sec\n",
      "[M::process] read 1812 sequences (10001792 bp)...\n",
      "[M::mem_process_seqs] Processed 1766 reads in 68.853 CPU sec, 69.069 real sec\n",
      "[M::process] read 1762 sequences (10010250 bp)...\n",
      "[M::mem_process_seqs] Processed 1812 reads in 74.852 CPU sec, 75.099 real sec\n",
      "[M::process] read 1776 sequences (10000860 bp)...\n",
      "[M::mem_process_seqs] Processed 1762 reads in 80.121 CPU sec, 80.436 real sec\n",
      "[M::process] read 1774 sequences (10007639 bp)...\n",
      "[M::mem_process_seqs] Processed 1776 reads in 80.142 CPU sec, 80.503 real sec\n",
      "[M::process] read 1804 sequences (10004151 bp)...\n",
      "[M::mem_process_seqs] Processed 1774 reads in 80.245 CPU sec, 80.615 real sec\n",
      "[M::process] read 1774 sequences (10011798 bp)...\n",
      "[M::mem_process_seqs] Processed 1804 reads in 86.639 CPU sec, 87.161 real sec\n",
      "[M::process] read 1780 sequences (10006195 bp)...\n",
      "[M::mem_process_seqs] Processed 1774 reads in 82.871 CPU sec, 83.287 real sec\n",
      "[M::process] read 1790 sequences (10007629 bp)...\n",
      "[M::mem_process_seqs] Processed 1780 reads in 87.272 CPU sec, 87.630 real sec\n",
      "[M::process] read 1808 sequences (10007080 bp)...\n",
      "[M::mem_process_seqs] Processed 1790 reads in 97.606 CPU sec, 98.091 real sec\n",
      "[M::process] read 36 sequences (165443 bp)...\n",
      "[M::mem_process_seqs] Processed 1808 reads in 93.422 CPU sec, 93.874 real sec\n",
      "[M::mem_process_seqs] Processed 36 reads in 1.496 CPU sec, 1.434 real sec\n",
      "[main] Version: 0.7.15-r1140\n",
      "[main] CMD: bwa mem -x ont2d /home/researcher/references/Escherichia_coli_k12_MG1655.fa /mnt/shared/PoreCampAU/data/fastq/e_coli_R9/metrichor/pass/2d/2016-11-07_E_COLI_R9_pass.2d.fastq\n",
      "[main] Real time: 1122.223 sec; CPU: 1117.595 sec\n",
      "\n"
     ]
    }
   ],
   "source": [
    "# Now we can align the genome using bwa-mem\n",
    "# The output is in sam format and printed to the command line.\n",
    "# We can redirect the output using the > sign.\n",
    "SAMPLE_NAME = \"e_coli_R9\"\n",
    "\n",
    "fastq_file = FASTQ_DIRECTORY + \"e_coli_R9/metrichor/pass/2d/2016-11-07_E_COLI_R9_pass.2d.fastq\"\n",
    "sam_file = ALIGNMENT_DIRECTORY + SAMPLE_NAME + \".sam\"\n",
    "bam_file = ALIGNMENT_DIRECTORY + SAMPLE_NAME + \".bam\"\n",
    "sorted_bam_file = ALIGNMENT_DIRECTORY + SAMPLE_NAME + \".sorted.bam\"\n",
    "sorted_bam_file_index = ALIGNMENT_DIRECTORY + SAMPLE_NAME + \".sorted.bai\"\n",
    "\n",
    "bwa_command = \"bwa mem -x ont2d %s %s > %s\" % (reference_file, fastq_file, sam_file)\n",
    "stderr = subprocess.check_output(bwa_command, shell=True, stderr=subprocess.STDOUT)\n",
    "\n",
    "if not stderr == \"\":\n",
    "    print(\"Stderr:\\n%s\" % stderr)"
   ]
  },
  {
   "cell_type": "code",
   "execution_count": 32,
   "metadata": {
    "collapsed": true
   },
   "outputs": [],
   "source": [
    "# Now let's turn that sam file into a bam file.\n",
    "sam_to_bam_command = \"samtools view -b %s -o %s\" % (sam_file, bam_file)\n",
    "stderr = subprocess.check_output(sam_to_bam_command, shell=True, stderr=subprocess.STDOUT)\n",
    "\n",
    "if not stderr == \"\":\n",
    "    print(\"Error: \", stderr)"
   ]
  },
  {
   "cell_type": "code",
   "execution_count": 33,
   "metadata": {
    "collapsed": true
   },
   "outputs": [],
   "source": [
    "# Now sort the sam file\n",
    "sort_bam_command = \"samtools sort -o %s %s\" % (sorted_bam_file, bam_file)\n",
    "stderr = subprocess.check_output(sort_bam_command, shell=True, stderr=subprocess.STDOUT)\n",
    "\n",
    "if not stderr == \"\":\n",
    "    print(\"Error: \", stderr)"
   ]
  },
  {
   "cell_type": "code",
   "execution_count": 34,
   "metadata": {
    "collapsed": true
   },
   "outputs": [],
   "source": [
    "# Now index the bam file\n",
    "index_bam_command = \"samtools index %s %s\" % (sorted_bam_file, sorted_bam_file_index)\n",
    "stderr = subprocess.check_output(index_bam_command, shell=True, stderr=subprocess.STDOUT)\n",
    "\n",
    "if not stderr == \"\":\n",
    "    print(\"Error: \", stderr)"
   ]
  },
  {
   "cell_type": "raw",
   "metadata": {
    "collapsed": true
   },
   "source": [
    "Yay! We've managed to generate a sorted bam file with an index.\n",
    "Unfortunately I've fooled you into generating one for a subset of reads.\n",
    "For the IGV Jupyter session we will be using the pre-intalled bam files."
   ]
  }
 ],
 "metadata": {
  "anaconda-cloud": {},
  "kernelspec": {
   "display_name": "Python 2",
   "language": "python",
   "name": "python2"
  },
  "language_info": {
   "codemirror_mode": {
    "name": "ipython",
    "version": 2
   },
   "file_extension": ".py",
   "mimetype": "text/x-python",
   "name": "python",
   "nbconvert_exporter": "python",
   "pygments_lexer": "ipython2",
   "version": "2.7.13"
  }
 },
 "nbformat": 4,
 "nbformat_minor": 0
}
